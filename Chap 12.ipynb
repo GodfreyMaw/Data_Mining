{
 "cells": [
  {
   "cell_type": "markdown",
   "id": "7531af79-c7cd-4ba6-b3b3-d7b8e24164d7",
   "metadata": {},
   "source": [
    "# Unsupervised Learning"
   ]
  },
  {
   "cell_type": "code",
   "execution_count": 1,
   "id": "26862502-56ba-46ec-a17a-791f9b8ee6ea",
   "metadata": {},
   "outputs": [],
   "source": [
    "import numpy as np\n",
    "import pandas as pd\n",
    "import matplotlib.pyplot as plt\n",
    "from statsmodels.datasets import get_rdataset\n",
    "from sklearn.decomposition import PCA\n",
    "from sklearn.preprocessing import StandardScaler\n",
    "from ISLP import load_data"
   ]
  },
  {
   "cell_type": "code",
   "execution_count": 5,
   "id": "2c574c7d-424b-4362-9259-5ce983f9572c",
   "metadata": {},
   "outputs": [],
   "source": [
    "from sklearn.cluster import \\\n",
    "(KMeans,AgglomerativeClustering)\n",
    "from scipy.cluster.hierarchy import \\\n",
    "(dendrogram,cut_tree)\n",
    "from ISLP.cluster import compute_linkage"
   ]
  },
  {
   "cell_type": "markdown",
   "id": "ef65169b-54ea-4abd-8b73-2a657d503f97",
   "metadata": {},
   "source": [
    "## 1.Principal Components Analysis"
   ]
  },
  {
   "cell_type": "code",
   "execution_count": 8,
   "id": "28c73862-b700-484c-9452-7c2e6e1d92e7",
   "metadata": {},
   "outputs": [
    {
     "data": {
      "text/html": [
       "<div>\n",
       "<style scoped>\n",
       "    .dataframe tbody tr th:only-of-type {\n",
       "        vertical-align: middle;\n",
       "    }\n",
       "\n",
       "    .dataframe tbody tr th {\n",
       "        vertical-align: top;\n",
       "    }\n",
       "\n",
       "    .dataframe thead th {\n",
       "        text-align: right;\n",
       "    }\n",
       "</style>\n",
       "<table border=\"1\" class=\"dataframe\">\n",
       "  <thead>\n",
       "    <tr style=\"text-align: right;\">\n",
       "      <th></th>\n",
       "      <th>Murder</th>\n",
       "      <th>Assault</th>\n",
       "      <th>UrbanPop</th>\n",
       "      <th>Rape</th>\n",
       "    </tr>\n",
       "    <tr>\n",
       "      <th>rownames</th>\n",
       "      <th></th>\n",
       "      <th></th>\n",
       "      <th></th>\n",
       "      <th></th>\n",
       "    </tr>\n",
       "  </thead>\n",
       "  <tbody>\n",
       "    <tr>\n",
       "      <th>Alabama</th>\n",
       "      <td>13.2</td>\n",
       "      <td>236</td>\n",
       "      <td>58</td>\n",
       "      <td>21.2</td>\n",
       "    </tr>\n",
       "    <tr>\n",
       "      <th>Alaska</th>\n",
       "      <td>10.0</td>\n",
       "      <td>263</td>\n",
       "      <td>48</td>\n",
       "      <td>44.5</td>\n",
       "    </tr>\n",
       "    <tr>\n",
       "      <th>Arizona</th>\n",
       "      <td>8.1</td>\n",
       "      <td>294</td>\n",
       "      <td>80</td>\n",
       "      <td>31.0</td>\n",
       "    </tr>\n",
       "    <tr>\n",
       "      <th>Arkansas</th>\n",
       "      <td>8.8</td>\n",
       "      <td>190</td>\n",
       "      <td>50</td>\n",
       "      <td>19.5</td>\n",
       "    </tr>\n",
       "    <tr>\n",
       "      <th>California</th>\n",
       "      <td>9.0</td>\n",
       "      <td>276</td>\n",
       "      <td>91</td>\n",
       "      <td>40.6</td>\n",
       "    </tr>\n",
       "    <tr>\n",
       "      <th>Colorado</th>\n",
       "      <td>7.9</td>\n",
       "      <td>204</td>\n",
       "      <td>78</td>\n",
       "      <td>38.7</td>\n",
       "    </tr>\n",
       "    <tr>\n",
       "      <th>Connecticut</th>\n",
       "      <td>3.3</td>\n",
       "      <td>110</td>\n",
       "      <td>77</td>\n",
       "      <td>11.1</td>\n",
       "    </tr>\n",
       "    <tr>\n",
       "      <th>Delaware</th>\n",
       "      <td>5.9</td>\n",
       "      <td>238</td>\n",
       "      <td>72</td>\n",
       "      <td>15.8</td>\n",
       "    </tr>\n",
       "    <tr>\n",
       "      <th>Florida</th>\n",
       "      <td>15.4</td>\n",
       "      <td>335</td>\n",
       "      <td>80</td>\n",
       "      <td>31.9</td>\n",
       "    </tr>\n",
       "    <tr>\n",
       "      <th>Georgia</th>\n",
       "      <td>17.4</td>\n",
       "      <td>211</td>\n",
       "      <td>60</td>\n",
       "      <td>25.8</td>\n",
       "    </tr>\n",
       "    <tr>\n",
       "      <th>Hawaii</th>\n",
       "      <td>5.3</td>\n",
       "      <td>46</td>\n",
       "      <td>83</td>\n",
       "      <td>20.2</td>\n",
       "    </tr>\n",
       "    <tr>\n",
       "      <th>Idaho</th>\n",
       "      <td>2.6</td>\n",
       "      <td>120</td>\n",
       "      <td>54</td>\n",
       "      <td>14.2</td>\n",
       "    </tr>\n",
       "    <tr>\n",
       "      <th>Illinois</th>\n",
       "      <td>10.4</td>\n",
       "      <td>249</td>\n",
       "      <td>83</td>\n",
       "      <td>24.0</td>\n",
       "    </tr>\n",
       "    <tr>\n",
       "      <th>Indiana</th>\n",
       "      <td>7.2</td>\n",
       "      <td>113</td>\n",
       "      <td>65</td>\n",
       "      <td>21.0</td>\n",
       "    </tr>\n",
       "    <tr>\n",
       "      <th>Iowa</th>\n",
       "      <td>2.2</td>\n",
       "      <td>56</td>\n",
       "      <td>57</td>\n",
       "      <td>11.3</td>\n",
       "    </tr>\n",
       "    <tr>\n",
       "      <th>Kansas</th>\n",
       "      <td>6.0</td>\n",
       "      <td>115</td>\n",
       "      <td>66</td>\n",
       "      <td>18.0</td>\n",
       "    </tr>\n",
       "    <tr>\n",
       "      <th>Kentucky</th>\n",
       "      <td>9.7</td>\n",
       "      <td>109</td>\n",
       "      <td>52</td>\n",
       "      <td>16.3</td>\n",
       "    </tr>\n",
       "    <tr>\n",
       "      <th>Louisiana</th>\n",
       "      <td>15.4</td>\n",
       "      <td>249</td>\n",
       "      <td>66</td>\n",
       "      <td>22.2</td>\n",
       "    </tr>\n",
       "    <tr>\n",
       "      <th>Maine</th>\n",
       "      <td>2.1</td>\n",
       "      <td>83</td>\n",
       "      <td>51</td>\n",
       "      <td>7.8</td>\n",
       "    </tr>\n",
       "    <tr>\n",
       "      <th>Maryland</th>\n",
       "      <td>11.3</td>\n",
       "      <td>300</td>\n",
       "      <td>67</td>\n",
       "      <td>27.8</td>\n",
       "    </tr>\n",
       "    <tr>\n",
       "      <th>Massachusetts</th>\n",
       "      <td>4.4</td>\n",
       "      <td>149</td>\n",
       "      <td>85</td>\n",
       "      <td>16.3</td>\n",
       "    </tr>\n",
       "    <tr>\n",
       "      <th>Michigan</th>\n",
       "      <td>12.1</td>\n",
       "      <td>255</td>\n",
       "      <td>74</td>\n",
       "      <td>35.1</td>\n",
       "    </tr>\n",
       "    <tr>\n",
       "      <th>Minnesota</th>\n",
       "      <td>2.7</td>\n",
       "      <td>72</td>\n",
       "      <td>66</td>\n",
       "      <td>14.9</td>\n",
       "    </tr>\n",
       "    <tr>\n",
       "      <th>Mississippi</th>\n",
       "      <td>16.1</td>\n",
       "      <td>259</td>\n",
       "      <td>44</td>\n",
       "      <td>17.1</td>\n",
       "    </tr>\n",
       "    <tr>\n",
       "      <th>Missouri</th>\n",
       "      <td>9.0</td>\n",
       "      <td>178</td>\n",
       "      <td>70</td>\n",
       "      <td>28.2</td>\n",
       "    </tr>\n",
       "    <tr>\n",
       "      <th>Montana</th>\n",
       "      <td>6.0</td>\n",
       "      <td>109</td>\n",
       "      <td>53</td>\n",
       "      <td>16.4</td>\n",
       "    </tr>\n",
       "    <tr>\n",
       "      <th>Nebraska</th>\n",
       "      <td>4.3</td>\n",
       "      <td>102</td>\n",
       "      <td>62</td>\n",
       "      <td>16.5</td>\n",
       "    </tr>\n",
       "    <tr>\n",
       "      <th>Nevada</th>\n",
       "      <td>12.2</td>\n",
       "      <td>252</td>\n",
       "      <td>81</td>\n",
       "      <td>46.0</td>\n",
       "    </tr>\n",
       "    <tr>\n",
       "      <th>New Hampshire</th>\n",
       "      <td>2.1</td>\n",
       "      <td>57</td>\n",
       "      <td>56</td>\n",
       "      <td>9.5</td>\n",
       "    </tr>\n",
       "    <tr>\n",
       "      <th>New Jersey</th>\n",
       "      <td>7.4</td>\n",
       "      <td>159</td>\n",
       "      <td>89</td>\n",
       "      <td>18.8</td>\n",
       "    </tr>\n",
       "    <tr>\n",
       "      <th>New Mexico</th>\n",
       "      <td>11.4</td>\n",
       "      <td>285</td>\n",
       "      <td>70</td>\n",
       "      <td>32.1</td>\n",
       "    </tr>\n",
       "    <tr>\n",
       "      <th>New York</th>\n",
       "      <td>11.1</td>\n",
       "      <td>254</td>\n",
       "      <td>86</td>\n",
       "      <td>26.1</td>\n",
       "    </tr>\n",
       "    <tr>\n",
       "      <th>North Carolina</th>\n",
       "      <td>13.0</td>\n",
       "      <td>337</td>\n",
       "      <td>45</td>\n",
       "      <td>16.1</td>\n",
       "    </tr>\n",
       "    <tr>\n",
       "      <th>North Dakota</th>\n",
       "      <td>0.8</td>\n",
       "      <td>45</td>\n",
       "      <td>44</td>\n",
       "      <td>7.3</td>\n",
       "    </tr>\n",
       "    <tr>\n",
       "      <th>Ohio</th>\n",
       "      <td>7.3</td>\n",
       "      <td>120</td>\n",
       "      <td>75</td>\n",
       "      <td>21.4</td>\n",
       "    </tr>\n",
       "    <tr>\n",
       "      <th>Oklahoma</th>\n",
       "      <td>6.6</td>\n",
       "      <td>151</td>\n",
       "      <td>68</td>\n",
       "      <td>20.0</td>\n",
       "    </tr>\n",
       "    <tr>\n",
       "      <th>Oregon</th>\n",
       "      <td>4.9</td>\n",
       "      <td>159</td>\n",
       "      <td>67</td>\n",
       "      <td>29.3</td>\n",
       "    </tr>\n",
       "    <tr>\n",
       "      <th>Pennsylvania</th>\n",
       "      <td>6.3</td>\n",
       "      <td>106</td>\n",
       "      <td>72</td>\n",
       "      <td>14.9</td>\n",
       "    </tr>\n",
       "    <tr>\n",
       "      <th>Rhode Island</th>\n",
       "      <td>3.4</td>\n",
       "      <td>174</td>\n",
       "      <td>87</td>\n",
       "      <td>8.3</td>\n",
       "    </tr>\n",
       "    <tr>\n",
       "      <th>South Carolina</th>\n",
       "      <td>14.4</td>\n",
       "      <td>279</td>\n",
       "      <td>48</td>\n",
       "      <td>22.5</td>\n",
       "    </tr>\n",
       "    <tr>\n",
       "      <th>South Dakota</th>\n",
       "      <td>3.8</td>\n",
       "      <td>86</td>\n",
       "      <td>45</td>\n",
       "      <td>12.8</td>\n",
       "    </tr>\n",
       "    <tr>\n",
       "      <th>Tennessee</th>\n",
       "      <td>13.2</td>\n",
       "      <td>188</td>\n",
       "      <td>59</td>\n",
       "      <td>26.9</td>\n",
       "    </tr>\n",
       "    <tr>\n",
       "      <th>Texas</th>\n",
       "      <td>12.7</td>\n",
       "      <td>201</td>\n",
       "      <td>80</td>\n",
       "      <td>25.5</td>\n",
       "    </tr>\n",
       "    <tr>\n",
       "      <th>Utah</th>\n",
       "      <td>3.2</td>\n",
       "      <td>120</td>\n",
       "      <td>80</td>\n",
       "      <td>22.9</td>\n",
       "    </tr>\n",
       "    <tr>\n",
       "      <th>Vermont</th>\n",
       "      <td>2.2</td>\n",
       "      <td>48</td>\n",
       "      <td>32</td>\n",
       "      <td>11.2</td>\n",
       "    </tr>\n",
       "    <tr>\n",
       "      <th>Virginia</th>\n",
       "      <td>8.5</td>\n",
       "      <td>156</td>\n",
       "      <td>63</td>\n",
       "      <td>20.7</td>\n",
       "    </tr>\n",
       "    <tr>\n",
       "      <th>Washington</th>\n",
       "      <td>4.0</td>\n",
       "      <td>145</td>\n",
       "      <td>73</td>\n",
       "      <td>26.2</td>\n",
       "    </tr>\n",
       "    <tr>\n",
       "      <th>West Virginia</th>\n",
       "      <td>5.7</td>\n",
       "      <td>81</td>\n",
       "      <td>39</td>\n",
       "      <td>9.3</td>\n",
       "    </tr>\n",
       "    <tr>\n",
       "      <th>Wisconsin</th>\n",
       "      <td>2.6</td>\n",
       "      <td>53</td>\n",
       "      <td>66</td>\n",
       "      <td>10.8</td>\n",
       "    </tr>\n",
       "    <tr>\n",
       "      <th>Wyoming</th>\n",
       "      <td>6.8</td>\n",
       "      <td>161</td>\n",
       "      <td>60</td>\n",
       "      <td>15.6</td>\n",
       "    </tr>\n",
       "  </tbody>\n",
       "</table>\n",
       "</div>"
      ],
      "text/plain": [
       "                Murder  Assault  UrbanPop  Rape\n",
       "rownames                                       \n",
       "Alabama           13.2      236        58  21.2\n",
       "Alaska            10.0      263        48  44.5\n",
       "Arizona            8.1      294        80  31.0\n",
       "Arkansas           8.8      190        50  19.5\n",
       "California         9.0      276        91  40.6\n",
       "Colorado           7.9      204        78  38.7\n",
       "Connecticut        3.3      110        77  11.1\n",
       "Delaware           5.9      238        72  15.8\n",
       "Florida           15.4      335        80  31.9\n",
       "Georgia           17.4      211        60  25.8\n",
       "Hawaii             5.3       46        83  20.2\n",
       "Idaho              2.6      120        54  14.2\n",
       "Illinois          10.4      249        83  24.0\n",
       "Indiana            7.2      113        65  21.0\n",
       "Iowa               2.2       56        57  11.3\n",
       "Kansas             6.0      115        66  18.0\n",
       "Kentucky           9.7      109        52  16.3\n",
       "Louisiana         15.4      249        66  22.2\n",
       "Maine              2.1       83        51   7.8\n",
       "Maryland          11.3      300        67  27.8\n",
       "Massachusetts      4.4      149        85  16.3\n",
       "Michigan          12.1      255        74  35.1\n",
       "Minnesota          2.7       72        66  14.9\n",
       "Mississippi       16.1      259        44  17.1\n",
       "Missouri           9.0      178        70  28.2\n",
       "Montana            6.0      109        53  16.4\n",
       "Nebraska           4.3      102        62  16.5\n",
       "Nevada            12.2      252        81  46.0\n",
       "New Hampshire      2.1       57        56   9.5\n",
       "New Jersey         7.4      159        89  18.8\n",
       "New Mexico        11.4      285        70  32.1\n",
       "New York          11.1      254        86  26.1\n",
       "North Carolina    13.0      337        45  16.1\n",
       "North Dakota       0.8       45        44   7.3\n",
       "Ohio               7.3      120        75  21.4\n",
       "Oklahoma           6.6      151        68  20.0\n",
       "Oregon             4.9      159        67  29.3\n",
       "Pennsylvania       6.3      106        72  14.9\n",
       "Rhode Island       3.4      174        87   8.3\n",
       "South Carolina    14.4      279        48  22.5\n",
       "South Dakota       3.8       86        45  12.8\n",
       "Tennessee         13.2      188        59  26.9\n",
       "Texas             12.7      201        80  25.5\n",
       "Utah               3.2      120        80  22.9\n",
       "Vermont            2.2       48        32  11.2\n",
       "Virginia           8.5      156        63  20.7\n",
       "Washington         4.0      145        73  26.2\n",
       "West Virginia      5.7       81        39   9.3\n",
       "Wisconsin          2.6       53        66  10.8\n",
       "Wyoming            6.8      161        60  15.6"
      ]
     },
     "execution_count": 8,
     "metadata": {},
     "output_type": "execute_result"
    }
   ],
   "source": [
    "USArrests = get_rdataset('USArrests').data\n",
    "USArrests"
   ]
  },
  {
   "cell_type": "code",
   "execution_count": 9,
   "id": "a3cb2f82-8d72-432e-b19e-91e24b53fba4",
   "metadata": {},
   "outputs": [
    {
     "data": {
      "text/plain": [
       "Index(['Murder', 'Assault', 'UrbanPop', 'Rape'], dtype='object')"
      ]
     },
     "execution_count": 9,
     "metadata": {},
     "output_type": "execute_result"
    }
   ],
   "source": [
    "USArrests.columns"
   ]
  },
  {
   "cell_type": "code",
   "execution_count": 10,
   "id": "86c01438-d296-415c-bbaf-c484829e2d28",
   "metadata": {},
   "outputs": [
    {
     "data": {
      "text/plain": [
       "Murder        7.788\n",
       "Assault     170.760\n",
       "UrbanPop     65.540\n",
       "Rape         21.232\n",
       "dtype: float64"
      ]
     },
     "execution_count": 10,
     "metadata": {},
     "output_type": "execute_result"
    }
   ],
   "source": [
    "USArrests.mean()"
   ]
  },
  {
   "cell_type": "code",
   "execution_count": 11,
   "id": "235db2f0-4a8e-401c-80a1-fb91466c9c1e",
   "metadata": {},
   "outputs": [
    {
     "data": {
      "text/plain": [
       "Murder        18.970465\n",
       "Assault     6945.165714\n",
       "UrbanPop     209.518776\n",
       "Rape          87.729159\n",
       "dtype: float64"
      ]
     },
     "execution_count": 11,
     "metadata": {},
     "output_type": "execute_result"
    }
   ],
   "source": [
    "USArrests.var()"
   ]
  },
  {
   "cell_type": "code",
   "execution_count": 12,
   "id": "cf78bc78-3044-4ce2-b171-51f3c715a7e0",
   "metadata": {},
   "outputs": [],
   "source": [
    "scaler = StandardScaler(with_std=True,\n",
    "with_mean=True)\n",
    "USArrests_scaled = scaler.fit_transform(USArrests)"
   ]
  },
  {
   "cell_type": "code",
   "execution_count": 13,
   "id": "d35bc146-5bd0-4e1f-a571-3d31ec69a807",
   "metadata": {},
   "outputs": [],
   "source": [
    "pcaUS = PCA()"
   ]
  },
  {
   "cell_type": "code",
   "execution_count": 14,
   "id": "d6a2ab22-964b-409b-a465-a091ef3d12ab",
   "metadata": {},
   "outputs": [
    {
     "data": {
      "text/html": [
       "<style>#sk-container-id-1 {\n",
       "  /* Definition of color scheme common for light and dark mode */\n",
       "  --sklearn-color-text: black;\n",
       "  --sklearn-color-line: gray;\n",
       "  /* Definition of color scheme for unfitted estimators */\n",
       "  --sklearn-color-unfitted-level-0: #fff5e6;\n",
       "  --sklearn-color-unfitted-level-1: #f6e4d2;\n",
       "  --sklearn-color-unfitted-level-2: #ffe0b3;\n",
       "  --sklearn-color-unfitted-level-3: chocolate;\n",
       "  /* Definition of color scheme for fitted estimators */\n",
       "  --sklearn-color-fitted-level-0: #f0f8ff;\n",
       "  --sklearn-color-fitted-level-1: #d4ebff;\n",
       "  --sklearn-color-fitted-level-2: #b3dbfd;\n",
       "  --sklearn-color-fitted-level-3: cornflowerblue;\n",
       "\n",
       "  /* Specific color for light theme */\n",
       "  --sklearn-color-text-on-default-background: var(--sg-text-color, var(--theme-code-foreground, var(--jp-content-font-color1, black)));\n",
       "  --sklearn-color-background: var(--sg-background-color, var(--theme-background, var(--jp-layout-color0, white)));\n",
       "  --sklearn-color-border-box: var(--sg-text-color, var(--theme-code-foreground, var(--jp-content-font-color1, black)));\n",
       "  --sklearn-color-icon: #696969;\n",
       "\n",
       "  @media (prefers-color-scheme: dark) {\n",
       "    /* Redefinition of color scheme for dark theme */\n",
       "    --sklearn-color-text-on-default-background: var(--sg-text-color, var(--theme-code-foreground, var(--jp-content-font-color1, white)));\n",
       "    --sklearn-color-background: var(--sg-background-color, var(--theme-background, var(--jp-layout-color0, #111)));\n",
       "    --sklearn-color-border-box: var(--sg-text-color, var(--theme-code-foreground, var(--jp-content-font-color1, white)));\n",
       "    --sklearn-color-icon: #878787;\n",
       "  }\n",
       "}\n",
       "\n",
       "#sk-container-id-1 {\n",
       "  color: var(--sklearn-color-text);\n",
       "}\n",
       "\n",
       "#sk-container-id-1 pre {\n",
       "  padding: 0;\n",
       "}\n",
       "\n",
       "#sk-container-id-1 input.sk-hidden--visually {\n",
       "  border: 0;\n",
       "  clip: rect(1px 1px 1px 1px);\n",
       "  clip: rect(1px, 1px, 1px, 1px);\n",
       "  height: 1px;\n",
       "  margin: -1px;\n",
       "  overflow: hidden;\n",
       "  padding: 0;\n",
       "  position: absolute;\n",
       "  width: 1px;\n",
       "}\n",
       "\n",
       "#sk-container-id-1 div.sk-dashed-wrapped {\n",
       "  border: 1px dashed var(--sklearn-color-line);\n",
       "  margin: 0 0.4em 0.5em 0.4em;\n",
       "  box-sizing: border-box;\n",
       "  padding-bottom: 0.4em;\n",
       "  background-color: var(--sklearn-color-background);\n",
       "}\n",
       "\n",
       "#sk-container-id-1 div.sk-container {\n",
       "  /* jupyter's `normalize.less` sets `[hidden] { display: none; }`\n",
       "     but bootstrap.min.css set `[hidden] { display: none !important; }`\n",
       "     so we also need the `!important` here to be able to override the\n",
       "     default hidden behavior on the sphinx rendered scikit-learn.org.\n",
       "     See: https://github.com/scikit-learn/scikit-learn/issues/21755 */\n",
       "  display: inline-block !important;\n",
       "  position: relative;\n",
       "}\n",
       "\n",
       "#sk-container-id-1 div.sk-text-repr-fallback {\n",
       "  display: none;\n",
       "}\n",
       "\n",
       "div.sk-parallel-item,\n",
       "div.sk-serial,\n",
       "div.sk-item {\n",
       "  /* draw centered vertical line to link estimators */\n",
       "  background-image: linear-gradient(var(--sklearn-color-text-on-default-background), var(--sklearn-color-text-on-default-background));\n",
       "  background-size: 2px 100%;\n",
       "  background-repeat: no-repeat;\n",
       "  background-position: center center;\n",
       "}\n",
       "\n",
       "/* Parallel-specific style estimator block */\n",
       "\n",
       "#sk-container-id-1 div.sk-parallel-item::after {\n",
       "  content: \"\";\n",
       "  width: 100%;\n",
       "  border-bottom: 2px solid var(--sklearn-color-text-on-default-background);\n",
       "  flex-grow: 1;\n",
       "}\n",
       "\n",
       "#sk-container-id-1 div.sk-parallel {\n",
       "  display: flex;\n",
       "  align-items: stretch;\n",
       "  justify-content: center;\n",
       "  background-color: var(--sklearn-color-background);\n",
       "  position: relative;\n",
       "}\n",
       "\n",
       "#sk-container-id-1 div.sk-parallel-item {\n",
       "  display: flex;\n",
       "  flex-direction: column;\n",
       "}\n",
       "\n",
       "#sk-container-id-1 div.sk-parallel-item:first-child::after {\n",
       "  align-self: flex-end;\n",
       "  width: 50%;\n",
       "}\n",
       "\n",
       "#sk-container-id-1 div.sk-parallel-item:last-child::after {\n",
       "  align-self: flex-start;\n",
       "  width: 50%;\n",
       "}\n",
       "\n",
       "#sk-container-id-1 div.sk-parallel-item:only-child::after {\n",
       "  width: 0;\n",
       "}\n",
       "\n",
       "/* Serial-specific style estimator block */\n",
       "\n",
       "#sk-container-id-1 div.sk-serial {\n",
       "  display: flex;\n",
       "  flex-direction: column;\n",
       "  align-items: center;\n",
       "  background-color: var(--sklearn-color-background);\n",
       "  padding-right: 1em;\n",
       "  padding-left: 1em;\n",
       "}\n",
       "\n",
       "\n",
       "/* Toggleable style: style used for estimator/Pipeline/ColumnTransformer box that is\n",
       "clickable and can be expanded/collapsed.\n",
       "- Pipeline and ColumnTransformer use this feature and define the default style\n",
       "- Estimators will overwrite some part of the style using the `sk-estimator` class\n",
       "*/\n",
       "\n",
       "/* Pipeline and ColumnTransformer style (default) */\n",
       "\n",
       "#sk-container-id-1 div.sk-toggleable {\n",
       "  /* Default theme specific background. It is overwritten whether we have a\n",
       "  specific estimator or a Pipeline/ColumnTransformer */\n",
       "  background-color: var(--sklearn-color-background);\n",
       "}\n",
       "\n",
       "/* Toggleable label */\n",
       "#sk-container-id-1 label.sk-toggleable__label {\n",
       "  cursor: pointer;\n",
       "  display: block;\n",
       "  width: 100%;\n",
       "  margin-bottom: 0;\n",
       "  padding: 0.5em;\n",
       "  box-sizing: border-box;\n",
       "  text-align: center;\n",
       "}\n",
       "\n",
       "#sk-container-id-1 label.sk-toggleable__label-arrow:before {\n",
       "  /* Arrow on the left of the label */\n",
       "  content: \"▸\";\n",
       "  float: left;\n",
       "  margin-right: 0.25em;\n",
       "  color: var(--sklearn-color-icon);\n",
       "}\n",
       "\n",
       "#sk-container-id-1 label.sk-toggleable__label-arrow:hover:before {\n",
       "  color: var(--sklearn-color-text);\n",
       "}\n",
       "\n",
       "/* Toggleable content - dropdown */\n",
       "\n",
       "#sk-container-id-1 div.sk-toggleable__content {\n",
       "  max-height: 0;\n",
       "  max-width: 0;\n",
       "  overflow: hidden;\n",
       "  text-align: left;\n",
       "  /* unfitted */\n",
       "  background-color: var(--sklearn-color-unfitted-level-0);\n",
       "}\n",
       "\n",
       "#sk-container-id-1 div.sk-toggleable__content.fitted {\n",
       "  /* fitted */\n",
       "  background-color: var(--sklearn-color-fitted-level-0);\n",
       "}\n",
       "\n",
       "#sk-container-id-1 div.sk-toggleable__content pre {\n",
       "  margin: 0.2em;\n",
       "  border-radius: 0.25em;\n",
       "  color: var(--sklearn-color-text);\n",
       "  /* unfitted */\n",
       "  background-color: var(--sklearn-color-unfitted-level-0);\n",
       "}\n",
       "\n",
       "#sk-container-id-1 div.sk-toggleable__content.fitted pre {\n",
       "  /* unfitted */\n",
       "  background-color: var(--sklearn-color-fitted-level-0);\n",
       "}\n",
       "\n",
       "#sk-container-id-1 input.sk-toggleable__control:checked~div.sk-toggleable__content {\n",
       "  /* Expand drop-down */\n",
       "  max-height: 200px;\n",
       "  max-width: 100%;\n",
       "  overflow: auto;\n",
       "}\n",
       "\n",
       "#sk-container-id-1 input.sk-toggleable__control:checked~label.sk-toggleable__label-arrow:before {\n",
       "  content: \"▾\";\n",
       "}\n",
       "\n",
       "/* Pipeline/ColumnTransformer-specific style */\n",
       "\n",
       "#sk-container-id-1 div.sk-label input.sk-toggleable__control:checked~label.sk-toggleable__label {\n",
       "  color: var(--sklearn-color-text);\n",
       "  background-color: var(--sklearn-color-unfitted-level-2);\n",
       "}\n",
       "\n",
       "#sk-container-id-1 div.sk-label.fitted input.sk-toggleable__control:checked~label.sk-toggleable__label {\n",
       "  background-color: var(--sklearn-color-fitted-level-2);\n",
       "}\n",
       "\n",
       "/* Estimator-specific style */\n",
       "\n",
       "/* Colorize estimator box */\n",
       "#sk-container-id-1 div.sk-estimator input.sk-toggleable__control:checked~label.sk-toggleable__label {\n",
       "  /* unfitted */\n",
       "  background-color: var(--sklearn-color-unfitted-level-2);\n",
       "}\n",
       "\n",
       "#sk-container-id-1 div.sk-estimator.fitted input.sk-toggleable__control:checked~label.sk-toggleable__label {\n",
       "  /* fitted */\n",
       "  background-color: var(--sklearn-color-fitted-level-2);\n",
       "}\n",
       "\n",
       "#sk-container-id-1 div.sk-label label.sk-toggleable__label,\n",
       "#sk-container-id-1 div.sk-label label {\n",
       "  /* The background is the default theme color */\n",
       "  color: var(--sklearn-color-text-on-default-background);\n",
       "}\n",
       "\n",
       "/* On hover, darken the color of the background */\n",
       "#sk-container-id-1 div.sk-label:hover label.sk-toggleable__label {\n",
       "  color: var(--sklearn-color-text);\n",
       "  background-color: var(--sklearn-color-unfitted-level-2);\n",
       "}\n",
       "\n",
       "/* Label box, darken color on hover, fitted */\n",
       "#sk-container-id-1 div.sk-label.fitted:hover label.sk-toggleable__label.fitted {\n",
       "  color: var(--sklearn-color-text);\n",
       "  background-color: var(--sklearn-color-fitted-level-2);\n",
       "}\n",
       "\n",
       "/* Estimator label */\n",
       "\n",
       "#sk-container-id-1 div.sk-label label {\n",
       "  font-family: monospace;\n",
       "  font-weight: bold;\n",
       "  display: inline-block;\n",
       "  line-height: 1.2em;\n",
       "}\n",
       "\n",
       "#sk-container-id-1 div.sk-label-container {\n",
       "  text-align: center;\n",
       "}\n",
       "\n",
       "/* Estimator-specific */\n",
       "#sk-container-id-1 div.sk-estimator {\n",
       "  font-family: monospace;\n",
       "  border: 1px dotted var(--sklearn-color-border-box);\n",
       "  border-radius: 0.25em;\n",
       "  box-sizing: border-box;\n",
       "  margin-bottom: 0.5em;\n",
       "  /* unfitted */\n",
       "  background-color: var(--sklearn-color-unfitted-level-0);\n",
       "}\n",
       "\n",
       "#sk-container-id-1 div.sk-estimator.fitted {\n",
       "  /* fitted */\n",
       "  background-color: var(--sklearn-color-fitted-level-0);\n",
       "}\n",
       "\n",
       "/* on hover */\n",
       "#sk-container-id-1 div.sk-estimator:hover {\n",
       "  /* unfitted */\n",
       "  background-color: var(--sklearn-color-unfitted-level-2);\n",
       "}\n",
       "\n",
       "#sk-container-id-1 div.sk-estimator.fitted:hover {\n",
       "  /* fitted */\n",
       "  background-color: var(--sklearn-color-fitted-level-2);\n",
       "}\n",
       "\n",
       "/* Specification for estimator info (e.g. \"i\" and \"?\") */\n",
       "\n",
       "/* Common style for \"i\" and \"?\" */\n",
       "\n",
       ".sk-estimator-doc-link,\n",
       "a:link.sk-estimator-doc-link,\n",
       "a:visited.sk-estimator-doc-link {\n",
       "  float: right;\n",
       "  font-size: smaller;\n",
       "  line-height: 1em;\n",
       "  font-family: monospace;\n",
       "  background-color: var(--sklearn-color-background);\n",
       "  border-radius: 1em;\n",
       "  height: 1em;\n",
       "  width: 1em;\n",
       "  text-decoration: none !important;\n",
       "  margin-left: 1ex;\n",
       "  /* unfitted */\n",
       "  border: var(--sklearn-color-unfitted-level-1) 1pt solid;\n",
       "  color: var(--sklearn-color-unfitted-level-1);\n",
       "}\n",
       "\n",
       ".sk-estimator-doc-link.fitted,\n",
       "a:link.sk-estimator-doc-link.fitted,\n",
       "a:visited.sk-estimator-doc-link.fitted {\n",
       "  /* fitted */\n",
       "  border: var(--sklearn-color-fitted-level-1) 1pt solid;\n",
       "  color: var(--sklearn-color-fitted-level-1);\n",
       "}\n",
       "\n",
       "/* On hover */\n",
       "div.sk-estimator:hover .sk-estimator-doc-link:hover,\n",
       ".sk-estimator-doc-link:hover,\n",
       "div.sk-label-container:hover .sk-estimator-doc-link:hover,\n",
       ".sk-estimator-doc-link:hover {\n",
       "  /* unfitted */\n",
       "  background-color: var(--sklearn-color-unfitted-level-3);\n",
       "  color: var(--sklearn-color-background);\n",
       "  text-decoration: none;\n",
       "}\n",
       "\n",
       "div.sk-estimator.fitted:hover .sk-estimator-doc-link.fitted:hover,\n",
       ".sk-estimator-doc-link.fitted:hover,\n",
       "div.sk-label-container:hover .sk-estimator-doc-link.fitted:hover,\n",
       ".sk-estimator-doc-link.fitted:hover {\n",
       "  /* fitted */\n",
       "  background-color: var(--sklearn-color-fitted-level-3);\n",
       "  color: var(--sklearn-color-background);\n",
       "  text-decoration: none;\n",
       "}\n",
       "\n",
       "/* Span, style for the box shown on hovering the info icon */\n",
       ".sk-estimator-doc-link span {\n",
       "  display: none;\n",
       "  z-index: 9999;\n",
       "  position: relative;\n",
       "  font-weight: normal;\n",
       "  right: .2ex;\n",
       "  padding: .5ex;\n",
       "  margin: .5ex;\n",
       "  width: min-content;\n",
       "  min-width: 20ex;\n",
       "  max-width: 50ex;\n",
       "  color: var(--sklearn-color-text);\n",
       "  box-shadow: 2pt 2pt 4pt #999;\n",
       "  /* unfitted */\n",
       "  background: var(--sklearn-color-unfitted-level-0);\n",
       "  border: .5pt solid var(--sklearn-color-unfitted-level-3);\n",
       "}\n",
       "\n",
       ".sk-estimator-doc-link.fitted span {\n",
       "  /* fitted */\n",
       "  background: var(--sklearn-color-fitted-level-0);\n",
       "  border: var(--sklearn-color-fitted-level-3);\n",
       "}\n",
       "\n",
       ".sk-estimator-doc-link:hover span {\n",
       "  display: block;\n",
       "}\n",
       "\n",
       "/* \"?\"-specific style due to the `<a>` HTML tag */\n",
       "\n",
       "#sk-container-id-1 a.estimator_doc_link {\n",
       "  float: right;\n",
       "  font-size: 1rem;\n",
       "  line-height: 1em;\n",
       "  font-family: monospace;\n",
       "  background-color: var(--sklearn-color-background);\n",
       "  border-radius: 1rem;\n",
       "  height: 1rem;\n",
       "  width: 1rem;\n",
       "  text-decoration: none;\n",
       "  /* unfitted */\n",
       "  color: var(--sklearn-color-unfitted-level-1);\n",
       "  border: var(--sklearn-color-unfitted-level-1) 1pt solid;\n",
       "}\n",
       "\n",
       "#sk-container-id-1 a.estimator_doc_link.fitted {\n",
       "  /* fitted */\n",
       "  border: var(--sklearn-color-fitted-level-1) 1pt solid;\n",
       "  color: var(--sklearn-color-fitted-level-1);\n",
       "}\n",
       "\n",
       "/* On hover */\n",
       "#sk-container-id-1 a.estimator_doc_link:hover {\n",
       "  /* unfitted */\n",
       "  background-color: var(--sklearn-color-unfitted-level-3);\n",
       "  color: var(--sklearn-color-background);\n",
       "  text-decoration: none;\n",
       "}\n",
       "\n",
       "#sk-container-id-1 a.estimator_doc_link.fitted:hover {\n",
       "  /* fitted */\n",
       "  background-color: var(--sklearn-color-fitted-level-3);\n",
       "}\n",
       "</style><div id=\"sk-container-id-1\" class=\"sk-top-container\"><div class=\"sk-text-repr-fallback\"><pre>PCA()</pre><b>In a Jupyter environment, please rerun this cell to show the HTML representation or trust the notebook. <br />On GitHub, the HTML representation is unable to render, please try loading this page with nbviewer.org.</b></div><div class=\"sk-container\" hidden><div class=\"sk-item\"><div class=\"sk-estimator fitted sk-toggleable\"><input class=\"sk-toggleable__control sk-hidden--visually\" id=\"sk-estimator-id-1\" type=\"checkbox\" checked><label for=\"sk-estimator-id-1\" class=\"sk-toggleable__label fitted sk-toggleable__label-arrow fitted\">&nbsp;&nbsp;PCA<a class=\"sk-estimator-doc-link fitted\" rel=\"noreferrer\" target=\"_blank\" href=\"https://scikit-learn.org/1.5/modules/generated/sklearn.decomposition.PCA.html\">?<span>Documentation for PCA</span></a><span class=\"sk-estimator-doc-link fitted\">i<span>Fitted</span></span></label><div class=\"sk-toggleable__content fitted\"><pre>PCA()</pre></div> </div></div></div></div>"
      ],
      "text/plain": [
       "PCA()"
      ]
     },
     "execution_count": 14,
     "metadata": {},
     "output_type": "execute_result"
    }
   ],
   "source": [
    "pcaUS.fit(USArrests_scaled)"
   ]
  },
  {
   "cell_type": "code",
   "execution_count": 15,
   "id": "2c493792-7374-458d-8001-270214ec4115",
   "metadata": {},
   "outputs": [
    {
     "data": {
      "text/plain": [
       "array([-7.10542736e-17,  1.38777878e-16, -4.39648318e-16,  8.59312621e-16])"
      ]
     },
     "execution_count": 15,
     "metadata": {},
     "output_type": "execute_result"
    }
   ],
   "source": [
    "pcaUS.mean_"
   ]
  },
  {
   "cell_type": "code",
   "execution_count": 16,
   "id": "2730db8e-506f-4c91-ba20-47b47b9bef9e",
   "metadata": {},
   "outputs": [],
   "source": [
    "scores = pcaUS.transform(USArrests_scaled)"
   ]
  },
  {
   "cell_type": "code",
   "execution_count": 17,
   "id": "2ea78de1-f64d-49e8-ad33-7fde408431e2",
   "metadata": {},
   "outputs": [
    {
     "data": {
      "text/plain": [
       "array([[ 0.53589947,  0.58318363,  0.27819087,  0.54343209],\n",
       "       [-0.41818087, -0.1879856 ,  0.87280619,  0.16731864],\n",
       "       [-0.34123273, -0.26814843, -0.37801579,  0.81777791],\n",
       "       [-0.6492278 ,  0.74340748, -0.13387773, -0.08902432]])"
      ]
     },
     "execution_count": 17,
     "metadata": {},
     "output_type": "execute_result"
    }
   ],
   "source": [
    "pcaUS.components_"
   ]
  },
  {
   "cell_type": "code",
   "execution_count": 19,
   "id": "49a925f4-3ff4-4101-a38f-7d555974f65e",
   "metadata": {},
   "outputs": [
    {
     "data": {
      "text/plain": [
       "Text(0.5434320914456826, 0.16731863540174644, 'Rape')"
      ]
     },
     "execution_count": 19,
     "metadata": {},
     "output_type": "execute_result"
    },
    {
     "data": {
      "image/png": "[encoded data removed]",
      "text/plain": [
       "<Figure size 800x800 with 1 Axes>"
      ]
     },
     "metadata": {},
     "output_type": "display_data"
    }
   ],
   "source": [
    "i, j = 0, 1 # which components\n",
    "fig, ax = plt.subplots(1, 1, figsize=(8, 8))\n",
    "ax.scatter(scores[:,0], scores[:,1])\n",
    "ax.set_xlabel('PC%d' % (i+1))\n",
    "ax.set_ylabel('PC%d' % (j+1))\n",
    "for k in range(pcaUS.components_.shape[1]):\n",
    "    ax.arrow(0, 0, pcaUS.components_[i,k], pcaUS.components_[j,k])\n",
    "ax.text(pcaUS.components_[i,k],\n",
    "pcaUS.components_[j,k],\n",
    "USArrests.columns[k])\n"
   ]
  },
  {
   "cell_type": "code",
   "execution_count": 21,
   "id": "4a80ee5a-9afd-4898-9242-ae69cbddbc09",
   "metadata": {},
   "outputs": [
    {
     "data": {
      "image/png": "[encoded data removed]",
      "text/plain": [
       "<Figure size 800x800 with 1 Axes>"
      ]
     },
     "metadata": {},
     "output_type": "display_data"
    }
   ],
   "source": [
    "scale_arrow = s_ = 2\n",
    "scores[:,1] *= -1\n",
    "pcaUS.components_[1] *= -1 # flip the y-axis\n",
    "fig, ax = plt.subplots(1, 1, figsize=(8, 8))\n",
    "ax.scatter(scores[:,0], scores[:,1])\n",
    "ax.set_xlabel('PC%d' % (i+1))\n",
    "ax.set_ylabel('PC%d' % (j+1))\n",
    "for k in range(pcaUS.components_.shape[1]):\n",
    "    ax.arrow(0, 0, s_*pcaUS.components_[i,k], s_*pcaUS.components_[\n",
    "j,k])\n",
    "    ax.text(s_*pcaUS.components_[i,k],s_*pcaUS.components_[j,k],USArrests.columns[k])"
   ]
  },
  {
   "cell_type": "code",
   "execution_count": 22,
   "id": "b17536d1-62d5-4bec-af84-2e9f099ca7af",
   "metadata": {},
   "outputs": [
    {
     "data": {
      "text/plain": [
       "array([1.5908673 , 1.00496987, 0.6031915 , 0.4206774 ])"
      ]
     },
     "execution_count": 22,
     "metadata": {},
     "output_type": "execute_result"
    }
   ],
   "source": [
    "scores.std(0, ddof=1)"
   ]
  },
  {
   "cell_type": "code",
   "execution_count": 23,
   "id": "088a404f-1bc5-45e4-9d5f-cf4619380827",
   "metadata": {},
   "outputs": [
    {
     "data": {
      "text/plain": [
       "array([2.53085875, 1.00996444, 0.36383998, 0.17696948])"
      ]
     },
     "execution_count": 23,
     "metadata": {},
     "output_type": "execute_result"
    }
   ],
   "source": [
    "pcaUS.explained_variance_"
   ]
  },
  {
   "cell_type": "code",
   "execution_count": 24,
   "id": "400d764e-40f8-4e4b-ac78-702ef94bcf53",
   "metadata": {},
   "outputs": [
    {
     "data": {
      "text/plain": [
       "array([0.62006039, 0.24744129, 0.0891408 , 0.04335752])"
      ]
     },
     "execution_count": 24,
     "metadata": {},
     "output_type": "execute_result"
    }
   ],
   "source": [
    "pcaUS.explained_variance_ratio_"
   ]
  },
  {
   "cell_type": "code",
   "execution_count": 25,
   "id": "df857cdb-5e0c-4fa7-be1a-06a8a076ee1e",
   "metadata": {},
   "outputs": [],
   "source": [
    "%%capture\n",
    "fig, axes = plt.subplots(1, 2, figsize=(15, 6))\n",
    "ticks = np.arange(pcaUS.n_components_)+1\n",
    "ax = axes[0]\n",
    "ax.plot(ticks,\n",
    "pcaUS.explained_variance_ratio_,\n",
    "marker='o')\n",
    "ax.set_xlabel('Principal Component');\n",
    "ax.set_ylabel('Proportion of Variance Explained')\n",
    "ax.set_ylim([0,1])\n",
    "ax.set_xticks(ticks)"
   ]
  },
  {
   "cell_type": "code",
   "execution_count": 26,
   "id": "e88f8354-4322-45f2-a82b-cb960590484b",
   "metadata": {},
   "outputs": [
    {
     "data": {
      "image/png": "[encoded data removed]",
      "text/plain": [
       "<Figure size 1500x600 with 2 Axes>"
      ]
     },
     "execution_count": 26,
     "metadata": {},
     "output_type": "execute_result"
    }
   ],
   "source": [
    "ax = axes[1]\n",
    "ax.plot(ticks,\n",
    "pcaUS.explained_variance_ratio_.cumsum(),\n",
    "marker='o')\n",
    "ax.set_xlabel('Principal Component')\n",
    "ax.set_ylabel('Cumulative Proportion of Variance Explained')\n",
    "ax.set_ylim([0, 1])\n",
    "ax.set_xticks(ticks)\n",
    "fig"
   ]
  },
  {
   "cell_type": "code",
   "execution_count": 27,
   "id": "345e2f2e-c4bf-44c3-b587-7789116955d3",
   "metadata": {},
   "outputs": [
    {
     "data": {
      "text/plain": [
       "array([ 1,  3, 11,  8])"
      ]
     },
     "execution_count": 27,
     "metadata": {},
     "output_type": "execute_result"
    }
   ],
   "source": [
    "a = np.array([1,2,8,-3])\n",
    "np.cumsum(a)"
   ]
  },
  {
   "cell_type": "markdown",
   "id": "1b277576-db66-4379-bd53-b929d08cef4f",
   "metadata": {},
   "source": [
    "## 2. Matrix Completion"
   ]
  },
  {
   "cell_type": "code",
   "execution_count": 28,
   "id": "369bc25f-e938-430d-99c4-6056821893fe",
   "metadata": {},
   "outputs": [
    {
     "data": {
      "text/plain": [
       "((50, 4), (4,), (4, 4))"
      ]
     },
     "execution_count": 28,
     "metadata": {},
     "output_type": "execute_result"
    }
   ],
   "source": [
    "X = USArrests_scaled\n",
    "U, D, V = np.linalg.svd(X, full_matrices=False)\n",
    "U.shape, D.shape, V.shape"
   ]
  },
  {
   "cell_type": "code",
   "execution_count": 29,
   "id": "62700c91-4b9e-4fce-9841-c606dcbe4c7c",
   "metadata": {},
   "outputs": [
    {
     "data": {
      "text/plain": [
       "array([[-0.53589947, -0.58318363, -0.27819087, -0.54343209],\n",
       "       [-0.41818087, -0.1879856 ,  0.87280619,  0.16731864],\n",
       "       [ 0.34123273,  0.26814843,  0.37801579, -0.81777791],\n",
       "       [ 0.6492278 , -0.74340748,  0.13387773,  0.08902432]])"
      ]
     },
     "execution_count": 29,
     "metadata": {},
     "output_type": "execute_result"
    }
   ],
   "source": [
    "V"
   ]
  },
  {
   "cell_type": "code",
   "execution_count": 30,
   "id": "f4415f7d-ad50-468f-a287-81cfe78d6631",
   "metadata": {},
   "outputs": [
    {
     "data": {
      "text/plain": [
       "array([[ 0.53589947,  0.58318363,  0.27819087,  0.54343209],\n",
       "       [ 0.41818087,  0.1879856 , -0.87280619, -0.16731864],\n",
       "       [-0.34123273, -0.26814843, -0.37801579,  0.81777791],\n",
       "       [-0.6492278 ,  0.74340748, -0.13387773, -0.08902432]])"
      ]
     },
     "execution_count": 30,
     "metadata": {},
     "output_type": "execute_result"
    }
   ],
   "source": [
    "pcaUS.components_"
   ]
  },
  {
   "cell_type": "code",
   "execution_count": 31,
   "id": "58488e28-d486-4b18-9b9e-830f86ca80d3",
   "metadata": {},
   "outputs": [
    {
     "data": {
      "text/plain": [
       "array([[-0.98556588, -1.13339238,  0.44426879,  0.15626714],\n",
       "       [-1.95013775, -1.07321326, -2.04000333, -0.43858344],\n",
       "       [-1.76316354,  0.74595678, -0.05478082, -0.83465292]])"
      ]
     },
     "execution_count": 31,
     "metadata": {},
     "output_type": "execute_result"
    }
   ],
   "source": [
    "(U * D[None,:])[:3]"
   ]
  },
  {
   "cell_type": "code",
   "execution_count": 32,
   "id": "57b05f65-9845-4d4b-ba62-6ba9e792203c",
   "metadata": {},
   "outputs": [
    {
     "data": {
      "text/plain": [
       "array([[ 0.98556588,  1.13339238, -0.44426879, -0.15626714],\n",
       "       [ 1.95013775,  1.07321326,  2.04000333,  0.43858344],\n",
       "       [ 1.76316354, -0.74595678,  0.05478082,  0.83465292]])"
      ]
     },
     "execution_count": 32,
     "metadata": {},
     "output_type": "execute_result"
    }
   ],
   "source": [
    "scores[:3]"
   ]
  },
  {
   "cell_type": "code",
   "execution_count": 33,
   "id": "62750486-7556-48bd-96a8-5367c6726647",
   "metadata": {},
   "outputs": [],
   "source": [
    "n_omit = 20\n",
    "np.random.seed(15)\n",
    "r_idx = np.random.choice(np.arange(X.shape[0]),\n",
    "n_omit,\n",
    "replace=False)\n",
    "c_idx = np.random.choice(np.arange(X.shape[1]),\n",
    "n_omit,\n",
    "replace=True)\n",
    "Xna = X.copy()\n",
    "Xna[r_idx, c_idx] = np.nan"
   ]
  },
  {
   "cell_type": "code",
   "execution_count": 36,
   "id": "2bea4575-b865-4c80-ac60-e50abbc4bc5c",
   "metadata": {},
   "outputs": [],
   "source": [
    "def low_rank(X, M=1):\n",
    "    U, D, V = np.linalg.svd(X)\n",
    "    L = U[:,:M] * D[None,:M]\n",
    "    return L.dot(V[:M])\n"
   ]
  },
  {
   "cell_type": "code",
   "execution_count": 37,
   "id": "c63cba4f-ecab-4c1d-afcd-609025b1be0a",
   "metadata": {},
   "outputs": [],
   "source": [
    "Xhat = Xna.copy()\n",
    "Xbar = np.nanmean(Xhat, axis=0)\n",
    "Xhat[r_idx, c_idx] = Xbar[c_idx]"
   ]
  },
  {
   "cell_type": "code",
   "execution_count": 39,
   "id": "efe34cc5-fe07-4c5b-8489-3d765e7116b6",
   "metadata": {},
   "outputs": [],
   "source": [
    "thresh = 1e-7\n",
    "rel_err = 1\n",
    "count = 0\n",
    "ismiss = np.isnan(Xna)\n",
    "mssold = np.mean(Xhat[~ismiss]**2)\n",
    "mss0 = np.mean(Xna[~ismiss]**2)"
   ]
  },
  {
   "cell_type": "code",
   "execution_count": 44,
   "id": "35bb1328-5514-45e1-b8ae-787d3c46bc99",
   "metadata": {},
   "outputs": [
    {
     "name": "stdout",
     "output_type": "stream",
     "text": [
      "Iteration: 1, MSS:0.395, Rel.Err 5.99e-01\n",
      "Iteration: 2, MSS:0.382, Rel.Err 1.33e-02\n",
      "Iteration: 3, MSS:0.381, Rel.Err 1.44e-03\n",
      "Iteration: 4, MSS:0.381, Rel.Err 1.79e-04\n",
      "Iteration: 5, MSS:0.381, Rel.Err 2.58e-05\n",
      "Iteration: 6, MSS:0.381, Rel.Err 4.22e-06\n",
      "Iteration: 7, MSS:0.381, Rel.Err 7.65e-07\n",
      "Iteration: 8, MSS:0.381, Rel.Err 1.48e-07\n",
      "Iteration: 9, MSS:0.381, Rel.Err 2.95e-08\n"
     ]
    }
   ],
   "source": [
    "while rel_err > thresh:\n",
    "    count += 1   # Step 2(a)\n",
    "    Xapp = low_rank(Xhat, M=1)\n",
    "    Xhat[ismiss] = Xapp[ismiss] # Step 2(b)\n",
    "    mss = np.mean(((Xna - Xapp)[~ismiss])**2) # Step 2(c)\n",
    "    rel_err = (mssold - mss) / mss0\n",
    "    mssold = mss\n",
    "    print(\"Iteration: {0}, MSS:{1:.3f}, Rel.Err {2:.2e}\"\n",
    ".format(count, mss, rel_err))"
   ]
  },
  {
   "cell_type": "code",
   "execution_count": 45,
   "id": "442b9483-4584-40ea-ba55-bd1dc7b28432",
   "metadata": {},
   "outputs": [
    {
     "data": {
      "text/plain": [
       "0.7113567434297362"
      ]
     },
     "execution_count": 45,
     "metadata": {},
     "output_type": "execute_result"
    }
   ],
   "source": [
    "np.corrcoef(Xapp[ismiss], X[ismiss])[0,1]"
   ]
  },
  {
   "cell_type": "markdown",
   "id": "eb78a0ae-f0e8-46e0-a857-3c34ed4dfabf",
   "metadata": {},
   "source": [
    "## 3. Clustering"
   ]
  },
  {
   "cell_type": "markdown",
   "id": "56c458fd-9b9d-4743-a3e1-804df70f8548",
   "metadata": {},
   "source": [
    "### 3.1 K-Means Clustering"
   ]
  },
  {
   "cell_type": "code",
   "execution_count": 46,
   "id": "c318165d-3cae-4f05-80c7-570102b08dd2",
   "metadata": {},
   "outputs": [],
   "source": [
    "np.random.seed(0);\n",
    "X = np.random.standard_normal((50,2));\n",
    "X[:25,0] += 3;\n",
    "X[:25,1] -= 4;"
   ]
  },
  {
   "cell_type": "code",
   "execution_count": 47,
   "id": "7e3a5bed-de56-4728-b83c-b8ac38d35d8d",
   "metadata": {},
   "outputs": [],
   "source": [
    "kmeans = KMeans(n_clusters=2,\n",
    "random_state=2,\n",
    "n_init=20).fit(X)"
   ]
  },
  {
   "cell_type": "code",
   "execution_count": 48,
   "id": "940ab666-c099-43e8-819b-87a3aa61e39d",
   "metadata": {},
   "outputs": [
    {
     "data": {
      "text/plain": [
       "array([0, 0, 0, 0, 0, 0, 0, 0, 0, 0, 0, 0, 0, 0, 0, 0, 0, 0, 0, 0, 0, 1,\n",
       "       0, 0, 0, 1, 1, 1, 1, 1, 1, 1, 1, 1, 1, 1, 1, 1, 1, 1, 1, 1, 1, 1,\n",
       "       1, 1, 1, 1, 1, 1])"
      ]
     },
     "execution_count": 48,
     "metadata": {},
     "output_type": "execute_result"
    }
   ],
   "source": [
    "kmeans.labels_"
   ]
  },
  {
   "cell_type": "code",
   "execution_count": 49,
   "id": "b7f41f06-1725-4f41-aec2-ee7bb5fe4082",
   "metadata": {},
   "outputs": [
    {
     "data": {
      "image/png": "[encoded data removed]",
      "text/plain": [
       "<Figure size 800x800 with 1 Axes>"
      ]
     },
     "metadata": {},
     "output_type": "display_data"
    }
   ],
   "source": [
    "fig, ax = plt.subplots(1, 1, figsize=(8,8))\n",
    "ax.scatter(X[:,0], X[:,1], c=kmeans.labels_)\n",
    "ax.set_title(\"K-Means Clustering Results with K=2\");"
   ]
  },
  {
   "cell_type": "code",
   "execution_count": 50,
   "id": "8f869954-a029-48f2-8eea-61b28128b52c",
   "metadata": {},
   "outputs": [
    {
     "data": {
      "image/png": "[encoded data removed]",
      "text/plain": [
       "<Figure size 800x800 with 1 Axes>"
      ]
     },
     "metadata": {},
     "output_type": "display_data"
    }
   ],
   "source": [
    "kmeans = KMeans(n_clusters=3,\n",
    "random_state=3,\n",
    "n_init=20).fit(X)\n",
    "fig, ax = plt.subplots(figsize=(8,8))\n",
    "ax.scatter(X[:,0], X[:,1], c=kmeans.labels_)\n",
    "ax.set_title(\"K-Means Clustering Results with K=3\");"
   ]
  },
  {
   "cell_type": "code",
   "execution_count": 51,
   "id": "0e424f39-9b5a-4e70-9d92-d53dba8b9700",
   "metadata": {},
   "outputs": [
    {
     "data": {
      "text/plain": [
       "(76.85131986999252, 75.06261242745384)"
      ]
     },
     "execution_count": 51,
     "metadata": {},
     "output_type": "execute_result"
    }
   ],
   "source": [
    "kmeans1 = KMeans(n_clusters=3,\n",
    "random_state=3,\n",
    "n_init=1).fit(X)\n",
    "kmeans20 = KMeans(n_clusters=3,\n",
    "random_state=3,\n",
    "n_init=20).fit(X);\n",
    "kmeans1.inertia_, kmeans20.inertia_"
   ]
  },
  {
   "cell_type": "code",
   "execution_count": 52,
   "id": "c5c1c8a5-e8db-444e-b66b-d151d8438b59",
   "metadata": {},
   "outputs": [
    {
     "data": {
      "text/html": [
       "<style>#sk-container-id-2 {\n",
       "  /* Definition of color scheme common for light and dark mode */\n",
       "  --sklearn-color-text: black;\n",
       "  --sklearn-color-line: gray;\n",
       "  /* Definition of color scheme for unfitted estimators */\n",
       "  --sklearn-color-unfitted-level-0: #fff5e6;\n",
       "  --sklearn-color-unfitted-level-1: #f6e4d2;\n",
       "  --sklearn-color-unfitted-level-2: #ffe0b3;\n",
       "  --sklearn-color-unfitted-level-3: chocolate;\n",
       "  /* Definition of color scheme for fitted estimators */\n",
       "  --sklearn-color-fitted-level-0: #f0f8ff;\n",
       "  --sklearn-color-fitted-level-1: #d4ebff;\n",
       "  --sklearn-color-fitted-level-2: #b3dbfd;\n",
       "  --sklearn-color-fitted-level-3: cornflowerblue;\n",
       "\n",
       "  /* Specific color for light theme */\n",
       "  --sklearn-color-text-on-default-background: var(--sg-text-color, var(--theme-code-foreground, var(--jp-content-font-color1, black)));\n",
       "  --sklearn-color-background: var(--sg-background-color, var(--theme-background, var(--jp-layout-color0, white)));\n",
       "  --sklearn-color-border-box: var(--sg-text-color, var(--theme-code-foreground, var(--jp-content-font-color1, black)));\n",
       "  --sklearn-color-icon: #696969;\n",
       "\n",
       "  @media (prefers-color-scheme: dark) {\n",
       "    /* Redefinition of color scheme for dark theme */\n",
       "    --sklearn-color-text-on-default-background: var(--sg-text-color, var(--theme-code-foreground, var(--jp-content-font-color1, white)));\n",
       "    --sklearn-color-background: var(--sg-background-color, var(--theme-background, var(--jp-layout-color0, #111)));\n",
       "    --sklearn-color-border-box: var(--sg-text-color, var(--theme-code-foreground, var(--jp-content-font-color1, white)));\n",
       "    --sklearn-color-icon: #878787;\n",
       "  }\n",
       "}\n",
       "\n",
       "#sk-container-id-2 {\n",
       "  color: var(--sklearn-color-text);\n",
       "}\n",
       "\n",
       "#sk-container-id-2 pre {\n",
       "  padding: 0;\n",
       "}\n",
       "\n",
       "#sk-container-id-2 input.sk-hidden--visually {\n",
       "  border: 0;\n",
       "  clip: rect(1px 1px 1px 1px);\n",
       "  clip: rect(1px, 1px, 1px, 1px);\n",
       "  height: 1px;\n",
       "  margin: -1px;\n",
       "  overflow: hidden;\n",
       "  padding: 0;\n",
       "  position: absolute;\n",
       "  width: 1px;\n",
       "}\n",
       "\n",
       "#sk-container-id-2 div.sk-dashed-wrapped {\n",
       "  border: 1px dashed var(--sklearn-color-line);\n",
       "  margin: 0 0.4em 0.5em 0.4em;\n",
       "  box-sizing: border-box;\n",
       "  padding-bottom: 0.4em;\n",
       "  background-color: var(--sklearn-color-background);\n",
       "}\n",
       "\n",
       "#sk-container-id-2 div.sk-container {\n",
       "  /* jupyter's `normalize.less` sets `[hidden] { display: none; }`\n",
       "     but bootstrap.min.css set `[hidden] { display: none !important; }`\n",
       "     so we also need the `!important` here to be able to override the\n",
       "     default hidden behavior on the sphinx rendered scikit-learn.org.\n",
       "     See: https://github.com/scikit-learn/scikit-learn/issues/21755 */\n",
       "  display: inline-block !important;\n",
       "  position: relative;\n",
       "}\n",
       "\n",
       "#sk-container-id-2 div.sk-text-repr-fallback {\n",
       "  display: none;\n",
       "}\n",
       "\n",
       "div.sk-parallel-item,\n",
       "div.sk-serial,\n",
       "div.sk-item {\n",
       "  /* draw centered vertical line to link estimators */\n",
       "  background-image: linear-gradient(var(--sklearn-color-text-on-default-background), var(--sklearn-color-text-on-default-background));\n",
       "  background-size: 2px 100%;\n",
       "  background-repeat: no-repeat;\n",
       "  background-position: center center;\n",
       "}\n",
       "\n",
       "/* Parallel-specific style estimator block */\n",
       "\n",
       "#sk-container-id-2 div.sk-parallel-item::after {\n",
       "  content: \"\";\n",
       "  width: 100%;\n",
       "  border-bottom: 2px solid var(--sklearn-color-text-on-default-background);\n",
       "  flex-grow: 1;\n",
       "}\n",
       "\n",
       "#sk-container-id-2 div.sk-parallel {\n",
       "  display: flex;\n",
       "  align-items: stretch;\n",
       "  justify-content: center;\n",
       "  background-color: var(--sklearn-color-background);\n",
       "  position: relative;\n",
       "}\n",
       "\n",
       "#sk-container-id-2 div.sk-parallel-item {\n",
       "  display: flex;\n",
       "  flex-direction: column;\n",
       "}\n",
       "\n",
       "#sk-container-id-2 div.sk-parallel-item:first-child::after {\n",
       "  align-self: flex-end;\n",
       "  width: 50%;\n",
       "}\n",
       "\n",
       "#sk-container-id-2 div.sk-parallel-item:last-child::after {\n",
       "  align-self: flex-start;\n",
       "  width: 50%;\n",
       "}\n",
       "\n",
       "#sk-container-id-2 div.sk-parallel-item:only-child::after {\n",
       "  width: 0;\n",
       "}\n",
       "\n",
       "/* Serial-specific style estimator block */\n",
       "\n",
       "#sk-container-id-2 div.sk-serial {\n",
       "  display: flex;\n",
       "  flex-direction: column;\n",
       "  align-items: center;\n",
       "  background-color: var(--sklearn-color-background);\n",
       "  padding-right: 1em;\n",
       "  padding-left: 1em;\n",
       "}\n",
       "\n",
       "\n",
       "/* Toggleable style: style used for estimator/Pipeline/ColumnTransformer box that is\n",
       "clickable and can be expanded/collapsed.\n",
       "- Pipeline and ColumnTransformer use this feature and define the default style\n",
       "- Estimators will overwrite some part of the style using the `sk-estimator` class\n",
       "*/\n",
       "\n",
       "/* Pipeline and ColumnTransformer style (default) */\n",
       "\n",
       "#sk-container-id-2 div.sk-toggleable {\n",
       "  /* Default theme specific background. It is overwritten whether we have a\n",
       "  specific estimator or a Pipeline/ColumnTransformer */\n",
       "  background-color: var(--sklearn-color-background);\n",
       "}\n",
       "\n",
       "/* Toggleable label */\n",
       "#sk-container-id-2 label.sk-toggleable__label {\n",
       "  cursor: pointer;\n",
       "  display: block;\n",
       "  width: 100%;\n",
       "  margin-bottom: 0;\n",
       "  padding: 0.5em;\n",
       "  box-sizing: border-box;\n",
       "  text-align: center;\n",
       "}\n",
       "\n",
       "#sk-container-id-2 label.sk-toggleable__label-arrow:before {\n",
       "  /* Arrow on the left of the label */\n",
       "  content: \"▸\";\n",
       "  float: left;\n",
       "  margin-right: 0.25em;\n",
       "  color: var(--sklearn-color-icon);\n",
       "}\n",
       "\n",
       "#sk-container-id-2 label.sk-toggleable__label-arrow:hover:before {\n",
       "  color: var(--sklearn-color-text);\n",
       "}\n",
       "\n",
       "/* Toggleable content - dropdown */\n",
       "\n",
       "#sk-container-id-2 div.sk-toggleable__content {\n",
       "  max-height: 0;\n",
       "  max-width: 0;\n",
       "  overflow: hidden;\n",
       "  text-align: left;\n",
       "  /* unfitted */\n",
       "  background-color: var(--sklearn-color-unfitted-level-0);\n",
       "}\n",
       "\n",
       "#sk-container-id-2 div.sk-toggleable__content.fitted {\n",
       "  /* fitted */\n",
       "  background-color: var(--sklearn-color-fitted-level-0);\n",
       "}\n",
       "\n",
       "#sk-container-id-2 div.sk-toggleable__content pre {\n",
       "  margin: 0.2em;\n",
       "  border-radius: 0.25em;\n",
       "  color: var(--sklearn-color-text);\n",
       "  /* unfitted */\n",
       "  background-color: var(--sklearn-color-unfitted-level-0);\n",
       "}\n",
       "\n",
       "#sk-container-id-2 div.sk-toggleable__content.fitted pre {\n",
       "  /* unfitted */\n",
       "  background-color: var(--sklearn-color-fitted-level-0);\n",
       "}\n",
       "\n",
       "#sk-container-id-2 input.sk-toggleable__control:checked~div.sk-toggleable__content {\n",
       "  /* Expand drop-down */\n",
       "  max-height: 200px;\n",
       "  max-width: 100%;\n",
       "  overflow: auto;\n",
       "}\n",
       "\n",
       "#sk-container-id-2 input.sk-toggleable__control:checked~label.sk-toggleable__label-arrow:before {\n",
       "  content: \"▾\";\n",
       "}\n",
       "\n",
       "/* Pipeline/ColumnTransformer-specific style */\n",
       "\n",
       "#sk-container-id-2 div.sk-label input.sk-toggleable__control:checked~label.sk-toggleable__label {\n",
       "  color: var(--sklearn-color-text);\n",
       "  background-color: var(--sklearn-color-unfitted-level-2);\n",
       "}\n",
       "\n",
       "#sk-container-id-2 div.sk-label.fitted input.sk-toggleable__control:checked~label.sk-toggleable__label {\n",
       "  background-color: var(--sklearn-color-fitted-level-2);\n",
       "}\n",
       "\n",
       "/* Estimator-specific style */\n",
       "\n",
       "/* Colorize estimator box */\n",
       "#sk-container-id-2 div.sk-estimator input.sk-toggleable__control:checked~label.sk-toggleable__label {\n",
       "  /* unfitted */\n",
       "  background-color: var(--sklearn-color-unfitted-level-2);\n",
       "}\n",
       "\n",
       "#sk-container-id-2 div.sk-estimator.fitted input.sk-toggleable__control:checked~label.sk-toggleable__label {\n",
       "  /* fitted */\n",
       "  background-color: var(--sklearn-color-fitted-level-2);\n",
       "}\n",
       "\n",
       "#sk-container-id-2 div.sk-label label.sk-toggleable__label,\n",
       "#sk-container-id-2 div.sk-label label {\n",
       "  /* The background is the default theme color */\n",
       "  color: var(--sklearn-color-text-on-default-background);\n",
       "}\n",
       "\n",
       "/* On hover, darken the color of the background */\n",
       "#sk-container-id-2 div.sk-label:hover label.sk-toggleable__label {\n",
       "  color: var(--sklearn-color-text);\n",
       "  background-color: var(--sklearn-color-unfitted-level-2);\n",
       "}\n",
       "\n",
       "/* Label box, darken color on hover, fitted */\n",
       "#sk-container-id-2 div.sk-label.fitted:hover label.sk-toggleable__label.fitted {\n",
       "  color: var(--sklearn-color-text);\n",
       "  background-color: var(--sklearn-color-fitted-level-2);\n",
       "}\n",
       "\n",
       "/* Estimator label */\n",
       "\n",
       "#sk-container-id-2 div.sk-label label {\n",
       "  font-family: monospace;\n",
       "  font-weight: bold;\n",
       "  display: inline-block;\n",
       "  line-height: 1.2em;\n",
       "}\n",
       "\n",
       "#sk-container-id-2 div.sk-label-container {\n",
       "  text-align: center;\n",
       "}\n",
       "\n",
       "/* Estimator-specific */\n",
       "#sk-container-id-2 div.sk-estimator {\n",
       "  font-family: monospace;\n",
       "  border: 1px dotted var(--sklearn-color-border-box);\n",
       "  border-radius: 0.25em;\n",
       "  box-sizing: border-box;\n",
       "  margin-bottom: 0.5em;\n",
       "  /* unfitted */\n",
       "  background-color: var(--sklearn-color-unfitted-level-0);\n",
       "}\n",
       "\n",
       "#sk-container-id-2 div.sk-estimator.fitted {\n",
       "  /* fitted */\n",
       "  background-color: var(--sklearn-color-fitted-level-0);\n",
       "}\n",
       "\n",
       "/* on hover */\n",
       "#sk-container-id-2 div.sk-estimator:hover {\n",
       "  /* unfitted */\n",
       "  background-color: var(--sklearn-color-unfitted-level-2);\n",
       "}\n",
       "\n",
       "#sk-container-id-2 div.sk-estimator.fitted:hover {\n",
       "  /* fitted */\n",
       "  background-color: var(--sklearn-color-fitted-level-2);\n",
       "}\n",
       "\n",
       "/* Specification for estimator info (e.g. \"i\" and \"?\") */\n",
       "\n",
       "/* Common style for \"i\" and \"?\" */\n",
       "\n",
       ".sk-estimator-doc-link,\n",
       "a:link.sk-estimator-doc-link,\n",
       "a:visited.sk-estimator-doc-link {\n",
       "  float: right;\n",
       "  font-size: smaller;\n",
       "  line-height: 1em;\n",
       "  font-family: monospace;\n",
       "  background-color: var(--sklearn-color-background);\n",
       "  border-radius: 1em;\n",
       "  height: 1em;\n",
       "  width: 1em;\n",
       "  text-decoration: none !important;\n",
       "  margin-left: 1ex;\n",
       "  /* unfitted */\n",
       "  border: var(--sklearn-color-unfitted-level-1) 1pt solid;\n",
       "  color: var(--sklearn-color-unfitted-level-1);\n",
       "}\n",
       "\n",
       ".sk-estimator-doc-link.fitted,\n",
       "a:link.sk-estimator-doc-link.fitted,\n",
       "a:visited.sk-estimator-doc-link.fitted {\n",
       "  /* fitted */\n",
       "  border: var(--sklearn-color-fitted-level-1) 1pt solid;\n",
       "  color: var(--sklearn-color-fitted-level-1);\n",
       "}\n",
       "\n",
       "/* On hover */\n",
       "div.sk-estimator:hover .sk-estimator-doc-link:hover,\n",
       ".sk-estimator-doc-link:hover,\n",
       "div.sk-label-container:hover .sk-estimator-doc-link:hover,\n",
       ".sk-estimator-doc-link:hover {\n",
       "  /* unfitted */\n",
       "  background-color: var(--sklearn-color-unfitted-level-3);\n",
       "  color: var(--sklearn-color-background);\n",
       "  text-decoration: none;\n",
       "}\n",
       "\n",
       "div.sk-estimator.fitted:hover .sk-estimator-doc-link.fitted:hover,\n",
       ".sk-estimator-doc-link.fitted:hover,\n",
       "div.sk-label-container:hover .sk-estimator-doc-link.fitted:hover,\n",
       ".sk-estimator-doc-link.fitted:hover {\n",
       "  /* fitted */\n",
       "  background-color: var(--sklearn-color-fitted-level-3);\n",
       "  color: var(--sklearn-color-background);\n",
       "  text-decoration: none;\n",
       "}\n",
       "\n",
       "/* Span, style for the box shown on hovering the info icon */\n",
       ".sk-estimator-doc-link span {\n",
       "  display: none;\n",
       "  z-index: 9999;\n",
       "  position: relative;\n",
       "  font-weight: normal;\n",
       "  right: .2ex;\n",
       "  padding: .5ex;\n",
       "  margin: .5ex;\n",
       "  width: min-content;\n",
       "  min-width: 20ex;\n",
       "  max-width: 50ex;\n",
       "  color: var(--sklearn-color-text);\n",
       "  box-shadow: 2pt 2pt 4pt #999;\n",
       "  /* unfitted */\n",
       "  background: var(--sklearn-color-unfitted-level-0);\n",
       "  border: .5pt solid var(--sklearn-color-unfitted-level-3);\n",
       "}\n",
       "\n",
       ".sk-estimator-doc-link.fitted span {\n",
       "  /* fitted */\n",
       "  background: var(--sklearn-color-fitted-level-0);\n",
       "  border: var(--sklearn-color-fitted-level-3);\n",
       "}\n",
       "\n",
       ".sk-estimator-doc-link:hover span {\n",
       "  display: block;\n",
       "}\n",
       "\n",
       "/* \"?\"-specific style due to the `<a>` HTML tag */\n",
       "\n",
       "#sk-container-id-2 a.estimator_doc_link {\n",
       "  float: right;\n",
       "  font-size: 1rem;\n",
       "  line-height: 1em;\n",
       "  font-family: monospace;\n",
       "  background-color: var(--sklearn-color-background);\n",
       "  border-radius: 1rem;\n",
       "  height: 1rem;\n",
       "  width: 1rem;\n",
       "  text-decoration: none;\n",
       "  /* unfitted */\n",
       "  color: var(--sklearn-color-unfitted-level-1);\n",
       "  border: var(--sklearn-color-unfitted-level-1) 1pt solid;\n",
       "}\n",
       "\n",
       "#sk-container-id-2 a.estimator_doc_link.fitted {\n",
       "  /* fitted */\n",
       "  border: var(--sklearn-color-fitted-level-1) 1pt solid;\n",
       "  color: var(--sklearn-color-fitted-level-1);\n",
       "}\n",
       "\n",
       "/* On hover */\n",
       "#sk-container-id-2 a.estimator_doc_link:hover {\n",
       "  /* unfitted */\n",
       "  background-color: var(--sklearn-color-unfitted-level-3);\n",
       "  color: var(--sklearn-color-background);\n",
       "  text-decoration: none;\n",
       "}\n",
       "\n",
       "#sk-container-id-2 a.estimator_doc_link.fitted:hover {\n",
       "  /* fitted */\n",
       "  background-color: var(--sklearn-color-fitted-level-3);\n",
       "}\n",
       "</style><div id=\"sk-container-id-2\" class=\"sk-top-container\"><div class=\"sk-text-repr-fallback\"><pre>AgglomerativeClustering(distance_threshold=0, linkage=&#x27;complete&#x27;,\n",
       "                        n_clusters=None)</pre><b>In a Jupyter environment, please rerun this cell to show the HTML representation or trust the notebook. <br />On GitHub, the HTML representation is unable to render, please try loading this page with nbviewer.org.</b></div><div class=\"sk-container\" hidden><div class=\"sk-item\"><div class=\"sk-estimator fitted sk-toggleable\"><input class=\"sk-toggleable__control sk-hidden--visually\" id=\"sk-estimator-id-2\" type=\"checkbox\" checked><label for=\"sk-estimator-id-2\" class=\"sk-toggleable__label fitted sk-toggleable__label-arrow fitted\">&nbsp;&nbsp;AgglomerativeClustering<a class=\"sk-estimator-doc-link fitted\" rel=\"noreferrer\" target=\"_blank\" href=\"https://scikit-learn.org/1.5/modules/generated/sklearn.cluster.AgglomerativeClustering.html\">?<span>Documentation for AgglomerativeClustering</span></a><span class=\"sk-estimator-doc-link fitted\">i<span>Fitted</span></span></label><div class=\"sk-toggleable__content fitted\"><pre>AgglomerativeClustering(distance_threshold=0, linkage=&#x27;complete&#x27;,\n",
       "                        n_clusters=None)</pre></div> </div></div></div></div>"
      ],
      "text/plain": [
       "AgglomerativeClustering(distance_threshold=0, linkage='complete',\n",
       "                        n_clusters=None)"
      ]
     },
     "execution_count": 52,
     "metadata": {},
     "output_type": "execute_result"
    }
   ],
   "source": [
    "HClust = AgglomerativeClustering\n",
    "hc_comp = HClust(distance_threshold=0,\n",
    "n_clusters=None,\n",
    "linkage='complete')\n",
    "hc_comp.fit(X)"
   ]
  },
  {
   "cell_type": "code",
   "execution_count": 53,
   "id": "96f972b6-8905-4720-90bf-ef154df1b3c3",
   "metadata": {},
   "outputs": [],
   "source": [
    "hc_avg = HClust(distance_threshold=0,\n",
    "n_clusters=None,\n",
    "linkage='average');\n",
    "hc_avg.fit(X)\n",
    "hc_sing = HClust(distance_threshold=0,\n",
    "n_clusters=None,\n",
    "linkage='single');\n",
    "hc_sing.fit(X);"
   ]
  },
  {
   "cell_type": "code",
   "execution_count": 55,
   "id": "1478db5f-de31-4ce3-9eb2-d9516d358cf0",
   "metadata": {},
   "outputs": [],
   "source": [
    "D = np.zeros((X.shape[0], X.shape[0]));\n",
    "for i in range(X.shape[0]):\n",
    "    x_ = np.multiply.outer(np.ones(X.shape[0]), X[i])\n",
    "    D[i] = np.sqrt(np.sum((X - x_)**2, 1));\n",
    "    hc_sing_pre = HClust(distance_threshold=0, n_clusters=None,metric='precomputed',linkage='single')\n",
    "    hc_sing_pre.fit(D)"
   ]
  },
  {
   "cell_type": "code",
   "execution_count": 56,
   "id": "6ac926e4-3afa-4100-b585-914a1426f59d",
   "metadata": {},
   "outputs": [
    {
     "data": {
      "image/png": "[encoded data removed]",
      "text/plain": [
       "<Figure size 800x800 with 1 Axes>"
      ]
     },
     "metadata": {},
     "output_type": "display_data"
    }
   ],
   "source": [
    "cargs = {'color_threshold':-np.inf,\n",
    "'above_threshold_color':'black'}\n",
    "linkage_comp = compute_linkage(hc_comp)\n",
    "fig, ax = plt.subplots(1, 1, figsize=(8, 8))\n",
    "dendrogram(linkage_comp,\n",
    "ax=ax,\n",
    "**cargs);"
   ]
  },
  {
   "cell_type": "code",
   "execution_count": 57,
   "id": "0261747c-e5ca-406d-8368-0dfcd6c71349",
   "metadata": {},
   "outputs": [
    {
     "data": {
      "image/png": "[encoded data removed]",
      "text/plain": [
       "<Figure size 800x800 with 1 Axes>"
      ]
     },
     "metadata": {},
     "output_type": "display_data"
    }
   ],
   "source": [
    "fig, ax = plt.subplots(1, 1, figsize=(8, 8))\n",
    "dendrogram(linkage_comp,\n",
    "ax=ax,\n",
    "color_threshold=4,\n",
    "above_threshold_color='black');"
   ]
  },
  {
   "cell_type": "code",
   "execution_count": 58,
   "id": "90c2a8e8-67ac-4b71-98da-9167dad77e0f",
   "metadata": {},
   "outputs": [
    {
     "data": {
      "text/plain": [
       "array([[0, 1, 0, 0, 1, 1, 0, 1, 0, 0, 2, 0, 0, 0, 1, 1, 0, 0, 1, 0, 0, 2,\n",
       "        0, 2, 2, 3, 2, 3, 3, 3, 3, 2, 3, 3, 3, 3, 2, 3, 3, 3, 3, 2, 3, 3,\n",
       "        3, 3, 3, 3, 3, 3]])"
      ]
     },
     "execution_count": 58,
     "metadata": {},
     "output_type": "execute_result"
    }
   ],
   "source": [
    "cut_tree(linkage_comp, n_clusters=4).T"
   ]
  },
  {
   "cell_type": "code",
   "execution_count": 59,
   "id": "175a1ea4-0827-4347-8f1c-299e47c9d266",
   "metadata": {},
   "outputs": [
    {
     "data": {
      "text/plain": [
       "array([[0],\n",
       "       [0],\n",
       "       [0],\n",
       "       [0],\n",
       "       [0],\n",
       "       [0],\n",
       "       [0],\n",
       "       [0],\n",
       "       [0],\n",
       "       [0],\n",
       "       [1],\n",
       "       [0],\n",
       "       [0],\n",
       "       [0],\n",
       "       [0],\n",
       "       [0],\n",
       "       [0],\n",
       "       [0],\n",
       "       [0],\n",
       "       [0],\n",
       "       [0],\n",
       "       [1],\n",
       "       [0],\n",
       "       [1],\n",
       "       [1],\n",
       "       [2],\n",
       "       [1],\n",
       "       [2],\n",
       "       [2],\n",
       "       [2],\n",
       "       [2],\n",
       "       [1],\n",
       "       [2],\n",
       "       [2],\n",
       "       [2],\n",
       "       [2],\n",
       "       [1],\n",
       "       [2],\n",
       "       [2],\n",
       "       [2],\n",
       "       [2],\n",
       "       [1],\n",
       "       [2],\n",
       "       [2],\n",
       "       [2],\n",
       "       [2],\n",
       "       [2],\n",
       "       [2],\n",
       "       [2],\n",
       "       [2]])"
      ]
     },
     "execution_count": 59,
     "metadata": {},
     "output_type": "execute_result"
    }
   ],
   "source": [
    "cut_tree(linkage_comp, height=5)"
   ]
  },
  {
   "cell_type": "code",
   "execution_count": 60,
   "id": "c5153722-8e7d-4c07-9a96-5d565c1111e0",
   "metadata": {},
   "outputs": [
    {
     "data": {
      "image/png": "[encoded data removed]",
      "text/plain": [
       "<Figure size 800x800 with 1 Axes>"
      ]
     },
     "metadata": {},
     "output_type": "display_data"
    }
   ],
   "source": [
    "scaler = StandardScaler()\n",
    "X_scale = scaler.fit_transform(X)\n",
    "hc_comp_scale = HClust(distance_threshold=0,\n",
    "n_clusters=None,\n",
    "linkage='complete').fit(X_scale)\n",
    "linkage_comp_scale = compute_linkage(hc_comp_scale)\n",
    "fig, ax = plt.subplots(1, 1, figsize=(8, 8))\n",
    "dendrogram(linkage_comp_scale , ax=ax, **cargs)\n",
    "ax.set_title(\"Hierarchical Clustering with Scaled Features\");"
   ]
  },
  {
   "cell_type": "code",
   "execution_count": 66,
   "id": "60a52d9a-aed6-4b7a-bc97-d38248865951",
   "metadata": {},
   "outputs": [
    {
     "data": {
      "image/png": "[encoded data removed]",
      "text/plain": [
       "<Figure size 800x800 with 1 Axes>"
      ]
     },
     "metadata": {},
     "output_type": "display_data"
    }
   ],
   "source": [
    "X = np.random.standard_normal((30, 3))\n",
    "corD = 1 - np.corrcoef(X)\n",
    "hc_cor = HClust(linkage='complete',\n",
    "distance_threshold=0,\n",
    "n_clusters=None,\n",
    "metric='precomputed')\n",
    "hc_cor.fit(corD)\n",
    "linkage_cor = compute_linkage(hc_cor)\n",
    "fig, ax = plt.subplots(1, 1, figsize=(8, 8))\n",
    "dendrogram(linkage_cor , ax=ax, **cargs)\n",
    "ax.set_title(\"Complete Linkage with Correlation-Based Dissimilarity\")\n",
    "\n",
    "plt.show()"
   ]
  },
  {
   "cell_type": "markdown",
   "id": "f46ea558-b971-4ff9-a5b3-209eeda94110",
   "metadata": {},
   "source": [
    "## 4.NCI60 Data Example"
   ]
  },
  {
   "cell_type": "code",
   "execution_count": 67,
   "id": "9f66fa85-7132-401a-8e64-e864a31c2823",
   "metadata": {},
   "outputs": [],
   "source": [
    "NCI60 = load_data('NCI60')\n",
    "nci_labs = NCI60['labels']\n",
    "nci_data = NCI60['data']"
   ]
  },
  {
   "cell_type": "code",
   "execution_count": 68,
   "id": "7b6d6ffc-7232-4d6f-bd1d-aad09fa80f4e",
   "metadata": {},
   "outputs": [
    {
     "data": {
      "text/plain": [
       "(64, 6830)"
      ]
     },
     "execution_count": 68,
     "metadata": {},
     "output_type": "execute_result"
    }
   ],
   "source": [
    "nci_data.shape"
   ]
  },
  {
   "cell_type": "code",
   "execution_count": 69,
   "id": "50961d97-b1a5-4a4a-8108-5b4f53f4760e",
   "metadata": {},
   "outputs": [
    {
     "data": {
      "text/plain": [
       "label      \n",
       "NSCLC          9\n",
       "RENAL          9\n",
       "MELANOMA       8\n",
       "BREAST         7\n",
       "COLON          7\n",
       "LEUKEMIA       6\n",
       "OVARIAN        6\n",
       "CNS            5\n",
       "PROSTATE       2\n",
       "K562A-repro    1\n",
       "K562B-repro    1\n",
       "MCF7A-repro    1\n",
       "MCF7D-repro    1\n",
       "UNKNOWN        1\n",
       "Name: count, dtype: int64"
      ]
     },
     "execution_count": 69,
     "metadata": {},
     "output_type": "execute_result"
    }
   ],
   "source": [
    "nci_labs.value_counts()"
   ]
  },
  {
   "cell_type": "markdown",
   "id": "919d07ec-ba59-4de7-b345-5a4186b843ab",
   "metadata": {},
   "source": [
    "### 4.1 PCA on the NCI60 Data"
   ]
  },
  {
   "cell_type": "code",
   "execution_count": 70,
   "id": "404667d5-ae22-4146-b349-1afdd5fb1fc0",
   "metadata": {},
   "outputs": [],
   "source": [
    "scaler = StandardScaler()\n",
    "nci_scaled = scaler.fit_transform(nci_data)\n",
    "nci_pca = PCA()\n",
    "nci_scores = nci_pca.fit_transform(nci_scaled)"
   ]
  },
  {
   "cell_type": "code",
   "execution_count": 71,
   "id": "d7135521-48aa-4fb3-a34d-9c226167b817",
   "metadata": {},
   "outputs": [
    {
     "data": {
      "image/png": "[encoded data removed]",
      "text/plain": [
       "<Figure size 1500x600 with 2 Axes>"
      ]
     },
     "metadata": {},
     "output_type": "display_data"
    }
   ],
   "source": [
    "cancer_types = list(np.unique(nci_labs))\n",
    "nci_groups = np.array([cancer_types.index(lab)\n",
    "for lab in nci_labs.values])\n",
    "fig, axes = plt.subplots(1, 2, figsize=(15,6))\n",
    "ax = axes[0]\n",
    "ax.scatter(nci_scores[:,0],\n",
    "nci_scores[:,1],\n",
    "c=nci_groups,\n",
    "marker='o',\n",
    "s=50)\n",
    "ax.set_xlabel('PC1'); ax.set_ylabel('PC2')\n",
    "ax = axes[1]\n",
    "ax.scatter(nci_scores[:,0],\n",
    "nci_scores[:,2],\n",
    "c=nci_groups,\n",
    "marker='o',\n",
    "s=50)\n",
    "ax.set_xlabel('PC1'); ax.set_ylabel('PC3');"
   ]
  },
  {
   "cell_type": "code",
   "execution_count": 73,
   "id": "5910f753-d835-4be8-bd35-42073aa81aad",
   "metadata": {},
   "outputs": [
    {
     "data": {
      "image/png": "[encoded data removed]",
      "text/plain": [
       "<Figure size 1500x600 with 2 Axes>"
      ]
     },
     "metadata": {},
     "output_type": "display_data"
    }
   ],
   "source": [
    "fig, axes = plt.subplots(1, 2, figsize=(15,6))\n",
    "ax = axes[0]\n",
    "ticks = np.arange(nci_pca.n_components_)+1\n",
    "ax.plot(ticks,\n",
    "nci_pca.explained_variance_ratio_,\n",
    "marker='o')\n",
    "ax.set_xlabel('Principal Component');\n",
    "ax.set_ylabel('PVE')\n",
    "ax = axes[1]\n",
    "ax.plot(ticks,\n",
    "nci_pca.explained_variance_ratio_.cumsum(),\n",
    "marker='o');\n",
    "ax.set_xlabel('Principal Component')\n",
    "ax.set_ylabel('Cumulative PVE');"
   ]
  },
  {
   "cell_type": "markdown",
   "id": "175d558a-d9a3-4cdf-82ce-6e5438fd8fbf",
   "metadata": {},
   "source": [
    "### 4.2 Clustering the Observations of the NCI60 Data"
   ]
  },
  {
   "cell_type": "code",
   "execution_count": 74,
   "id": "a0d57fac-da5c-4653-bcf0-444f4f8a8114",
   "metadata": {},
   "outputs": [
    {
     "ename": "IndentationError",
     "evalue": "expected an indented block after function definition on line 1 (1469422070.py, line 2)",
     "output_type": "error",
     "traceback": [
      "  \u001b[36mCell\u001b[39m\u001b[36m \u001b[39m\u001b[32mIn[74]\u001b[39m\u001b[32m, line 2\u001b[39m\n\u001b[31m    \u001b[39m\u001b[31mcargs = {'above_threshold_color':'black',\u001b[39m\n    ^\n\u001b[31mIndentationError\u001b[39m\u001b[31m:\u001b[39m expected an indented block after function definition on line 1\n"
     ]
    }
   ],
   "source": [
    "def plot_nci(linkage , ax, cut=-np.inf):\n",
    "cargs = {'above_threshold_color':'black',\n",
    "'color_threshold':cut}\n",
    "hc = HClust(n_clusters=None,\n",
    "distance_threshold=0,\n",
    "linkage=linkage.lower()).fit(nci_scaled)\n",
    "linkage_ = compute_linkage(hc)\n",
    "dendrogram(linkage_,\n",
    "ax=ax,\n",
    "labels=np.asarray(nci_labs),\n",
    "leaf_font_size=10,\n",
    "**cargs)\n",
    "ax.set_title('%s Linkage' % linkage)\n",
    "return hc"
   ]
  },
  {
   "cell_type": "code",
   "execution_count": null,
   "id": "84f2eafc-ee61-4ed9-93cc-e92cf9f17ff4",
   "metadata": {},
   "outputs": [],
   "source": []
  }
 ],
 "metadata": {
  "kernelspec": {
   "display_name": "Python 3 (ipykernel)",
   "language": "python",
   "name": "python3"
  },
  "language_info": {
   "codemirror_mode": {
    "name": "ipython",
    "version": 3
   },
   "file_extension": ".py",
   "mimetype": "text/x-python",
   "name": "python",
   "nbconvert_exporter": "python",
   "pygments_lexer": "ipython3",
   "version": "3.12.7"
  }
 },
 "nbformat": 4,
 "nbformat_minor": 5
}
